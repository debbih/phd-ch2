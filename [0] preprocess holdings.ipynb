{
 "cells": [
  {
   "cell_type": "code",
   "execution_count": 1,
   "metadata": {},
   "outputs": [],
   "source": [
    "import numpy as np\n",
    "import scipy\n",
    "import pandas as pd\n",
    "import pickle\n",
    "import glob\n",
    "import seaborn as sns\n",
    "import matplotlib.pyplot as plt\n",
    "import networkx as nx\n",
    "import time\n",
    "\n",
    "from math import nan\n",
    "from datetime import datetime\n",
    "\n",
    "import csv\n",
    "\n",
    "from tqdm import tqdm\n",
    "\n",
    "import vaex\n",
    "\n",
    "import matplotlib.pyplot as plt\n",
    "plt.rcParams.update({'font.size': 13})"
   ]
  },
  {
   "cell_type": "code",
   "execution_count": 2,
   "metadata": {
    "scrolled": true
   },
   "outputs": [
    {
     "data": {
      "text/plain": [
       "['/scratch/Debbie_Miori/CLOSE_20000128_20190701.csv',\n",
       " '/scratch/Debbie_Miori/imbalances_cusip',\n",
       " '/scratch/Debbie_Miori/holdings_t',\n",
       " '/scratch/Debbie_Miori/stocks.csv',\n",
       " '/scratch/Debbie_Miori/temporal_filings.pickle',\n",
       " '/scratch/Debbie_Miori/holdings_t (copy)',\n",
       " '/scratch/Debbie_Miori/13F2022.csv',\n",
       " '/scratch/Debbie_Miori/extracted_imbalances_by_cik.pickle',\n",
       " '/scratch/Debbie_Miori/adj_close_prices',\n",
       " '/scratch/Debbie_Miori/PROD.zip',\n",
       " '/scratch/Debbie_Miori/imbalances_cusip (copy)',\n",
       " '/scratch/Debbie_Miori/holdings_by_cik.pickle',\n",
       " '/scratch/Debbie_Miori/frequency_filing_clean.pickle',\n",
       " '/scratch/Debbie_Miori/stocks_data',\n",
       " '/scratch/Debbie_Miori/NPORT2022.csv',\n",
       " '/scratch/Debbie_Miori/Old',\n",
       " '/scratch/Debbie_Miori/NLP-project',\n",
       " '/scratch/Debbie_Miori/Oct2021',\n",
       " '/scratch/Debbie_Miori/big_dataset_dates.pickle']"
      ]
     },
     "execution_count": 2,
     "metadata": {},
     "output_type": "execute_result"
    }
   ],
   "source": [
    "d = glob.glob('/scratch/Debbie_Miori/*')\n",
    "d"
   ]
  },
  {
   "cell_type": "markdown",
   "metadata": {},
   "source": [
    "### Upload the file with all raw information on the 13F filings"
   ]
  },
  {
   "cell_type": "code",
   "execution_count": 3,
   "metadata": {},
   "outputs": [
    {
     "name": "stderr",
     "output_type": "stream",
     "text": [
      "/home/miori/.local/lib/python3.8/site-packages/vaex/__init__.py:526: FutureWarning: The error_bad_lines argument has been deprecated and will be removed in a future version.\n",
      "\n",
      "\n",
      "  return _from_csv_read(filename_or_buffer=filename_or_buffer, copy_index=copy_index,\n"
     ]
    },
    {
     "data": {
      "text/html": [
       "<table>\n",
       "<thead>\n",
       "<tr><th>#                                     </th><th>reg_cik  </th><th>reg_name                        </th><th>reg_lei  </th><th>series_id  </th><th>series_name  </th><th>series_lei  </th><th>period    </th><th>as_of_date  </th><th>form  </th><th>security_type  </th><th>security_class  </th><th>payoff  </th><th>name                          </th><th>lei  </th><th>issuer  </th><th>isin  </th><th>cusip    </th><th>sedol  </th><th>valor  </th><th>ticker  </th><th>quantity  </th><th>valuation  </th><th>valuation_currency  </th><th>allocation  </th><th>file                                   </th><th>line  </th></tr>\n",
       "</thead>\n",
       "<tbody>\n",
       "<tr><td><i style='opacity: 0.6'>0</i>         </td><td>1497637  </td><td>Accuvest Global Advisors        </td><td>nan      </td><td>nan        </td><td>nan          </td><td>nan         </td><td>2017-12-31</td><td>2018-01-30  </td><td>13F-HR</td><td>shares         </td><td>COM             </td><td>Long    </td><td>Blackrock Core Bond Trust     </td><td>nan  </td><td>09249e  </td><td>nan   </td><td>09249e101</td><td>nan    </td><td>nan    </td><td>nan     </td><td>24065.0   </td><td>338.0      </td><td>USD                 </td><td>nan         </td><td>1497637/13F-HR/0001497637-18-000001.txt</td><td>110   </td></tr>\n",
       "<tr><td><i style='opacity: 0.6'>1</i>         </td><td>1497637  </td><td>Accuvest Global Advisors        </td><td>nan      </td><td>nan        </td><td>nan          </td><td>nan         </td><td>2017-12-31</td><td>2018-01-30  </td><td>13F-HR</td><td>shares         </td><td>COM             </td><td>Long    </td><td>Eaton Vance Ltd Duration Incom</td><td>nan  </td><td>27828h  </td><td>nan   </td><td>27828h105</td><td>nan    </td><td>nan    </td><td>nan     </td><td>14000.0   </td><td>191.0      </td><td>USD                 </td><td>nan         </td><td>1497637/13F-HR/0001497637-18-000001.txt</td><td>126   </td></tr>\n",
       "<tr><td><i style='opacity: 0.6'>2</i>         </td><td>1497637  </td><td>Accuvest Global Advisors        </td><td>nan      </td><td>nan        </td><td>nan          </td><td>nan         </td><td>2017-12-31</td><td>2018-01-30  </td><td>13F-HR</td><td>shares         </td><td>COM             </td><td>Long    </td><td>FIRST TRUST SENIOR FLOATING   </td><td>nan  </td><td>33733U  </td><td>nan   </td><td>33733U108</td><td>nan    </td><td>nan    </td><td>nan     </td><td>68251.0   </td><td>880.0      </td><td>USD                 </td><td>nan         </td><td>1497637/13F-HR/0001497637-18-000001.txt</td><td>142   </td></tr>\n",
       "<tr><td><i style='opacity: 0.6'>3</i>         </td><td>1497637  </td><td>Accuvest Global Advisors        </td><td>nan      </td><td>nan        </td><td>nan          </td><td>nan         </td><td>2017-12-31</td><td>2018-01-30  </td><td>13F-HR</td><td>shares         </td><td>COM             </td><td>Long    </td><td>High Yield L/S ETF - First Tru</td><td>nan  </td><td>33738d  </td><td>nan   </td><td>33738d408</td><td>nan    </td><td>nan    </td><td>nan     </td><td>17050.0   </td><td>828.0      </td><td>USD                 </td><td>nan         </td><td>1497637/13F-HR/0001497637-18-000001.txt</td><td>158   </td></tr>\n",
       "<tr><td><i style='opacity: 0.6'>4</i>         </td><td>1497637  </td><td>Accuvest Global Advisors        </td><td>nan      </td><td>nan        </td><td>nan          </td><td>nan         </td><td>2017-12-31</td><td>2018-01-30  </td><td>13F-HR</td><td>shares         </td><td>COM             </td><td>Long    </td><td>INVESCO MUNICIPAL TRUST       </td><td>nan  </td><td>46131J  </td><td>nan   </td><td>46131J103</td><td>nan    </td><td>nan    </td><td>nan     </td><td>30900.0   </td><td>386.0      </td><td>USD                 </td><td>nan         </td><td>1497637/13F-HR/0001497637-18-000001.txt</td><td>174   </td></tr>\n",
       "<tr><td>...                                   </td><td>...      </td><td>...                             </td><td>...      </td><td>...        </td><td>...          </td><td>...         </td><td>...       </td><td>...         </td><td>...   </td><td>...            </td><td>...             </td><td>...     </td><td>...                           </td><td>...  </td><td>...     </td><td>...   </td><td>...      </td><td>...    </td><td>...    </td><td>...     </td><td>...       </td><td>...        </td><td>...                 </td><td>...         </td><td>...                                    </td><td>...   </td></tr>\n",
       "<tr><td><i style='opacity: 0.6'>65,442,764</i></td><td>1730962  </td><td>ODonnell Financial Services, LLC</td><td>nan      </td><td>nan        </td><td>nan          </td><td>nan         </td><td>2021-09-30</td><td>2021-10-29  </td><td>13F-HR</td><td>shares         </td><td>COM             </td><td>Long    </td><td>TESLA INC                     </td><td>nan  </td><td>88160R  </td><td>nan   </td><td>88160R101</td><td>nan    </td><td>nan    </td><td>nan     </td><td>600.0     </td><td>465.0      </td><td>USD                 </td><td>nan         </td><td>1730962/13F-HR/0001085146-21-002940.txt</td><td>815   </td></tr>\n",
       "<tr><td><i style='opacity: 0.6'>65,442,765</i></td><td>1730962  </td><td>ODonnell Financial Services, LLC</td><td>nan      </td><td>nan        </td><td>nan          </td><td>nan         </td><td>2021-09-30</td><td>2021-10-29  </td><td>13F-HR</td><td>shares         </td><td>COM             </td><td>Long    </td><td>UNITEDHEALTH GROUP INC        </td><td>nan  </td><td>91324P  </td><td>nan   </td><td>91324P102</td><td>nan    </td><td>nan    </td><td>nan     </td><td>1753.0    </td><td>685.0      </td><td>USD                 </td><td>nan         </td><td>1730962/13F-HR/0001085146-21-002940.txt</td><td>831   </td></tr>\n",
       "<tr><td><i style='opacity: 0.6'>65,442,766</i></td><td>1730962  </td><td>ODonnell Financial Services, LLC</td><td>nan      </td><td>nan        </td><td>nan          </td><td>nan         </td><td>2021-09-30</td><td>2021-10-29  </td><td>13F-HR</td><td>shares         </td><td>TOTAL BND MRKT  </td><td>Long    </td><td>VANGUARD BD INDEX FDS         </td><td>nan  </td><td>921937  </td><td>nan   </td><td>921937835</td><td>nan    </td><td>nan    </td><td>nan     </td><td>2406.0    </td><td>206.0      </td><td>USD                 </td><td>nan         </td><td>1730962/13F-HR/0001085146-21-002940.txt</td><td>847   </td></tr>\n",
       "<tr><td><i style='opacity: 0.6'>65,442,767</i></td><td>1730962  </td><td>ODonnell Financial Services, LLC</td><td>nan      </td><td>nan        </td><td>nan          </td><td>nan         </td><td>2021-09-30</td><td>2021-10-29  </td><td>13F-HR</td><td>shares         </td><td>GROWTH ETF      </td><td>Long    </td><td>VANGUARD INDEX FDS            </td><td>nan  </td><td>922908  </td><td>nan   </td><td>922908736</td><td>nan    </td><td>nan    </td><td>nan     </td><td>695.0     </td><td>202.0      </td><td>USD                 </td><td>nan         </td><td>1730962/13F-HR/0001085146-21-002940.txt</td><td>863   </td></tr>\n",
       "<tr><td><i style='opacity: 0.6'>65,442,768</i></td><td>1730962  </td><td>ODonnell Financial Services, LLC</td><td>nan      </td><td>nan        </td><td>nan          </td><td>nan         </td><td>2021-09-30</td><td>2021-10-29  </td><td>13F-HR</td><td>shares         </td><td>CL A            </td><td>Long    </td><td>ZOETIS INC                    </td><td>nan  </td><td>98978V  </td><td>nan   </td><td>98978V103</td><td>nan    </td><td>nan    </td><td>nan     </td><td>1947.0    </td><td>378.0      </td><td>USD                 </td><td>nan         </td><td>1730962/13F-HR/0001085146-21-002940.txt</td><td>879   </td></tr>\n",
       "</tbody>\n",
       "</table>"
      ],
      "text/plain": [
       "#           reg_cik    reg_name                          reg_lei    series_id    series_name    series_lei    period      as_of_date    form    security_type    security_class    payoff    name                            lei    issuer    isin    cusip      sedol    valor    ticker    quantity    valuation    valuation_currency    allocation    file                                     line\n",
       "0           1497637    Accuvest Global Advisors          nan        nan          nan            nan           2017-12-31  2018-01-30    13F-HR  shares           COM               Long      Blackrock Core Bond Trust       nan    09249e    nan     09249e101  nan      nan      nan       24065.0     338.0        USD                   nan           1497637/13F-HR/0001497637-18-000001.txt  110\n",
       "1           1497637    Accuvest Global Advisors          nan        nan          nan            nan           2017-12-31  2018-01-30    13F-HR  shares           COM               Long      Eaton Vance Ltd Duration Incom  nan    27828h    nan     27828h105  nan      nan      nan       14000.0     191.0        USD                   nan           1497637/13F-HR/0001497637-18-000001.txt  126\n",
       "2           1497637    Accuvest Global Advisors          nan        nan          nan            nan           2017-12-31  2018-01-30    13F-HR  shares           COM               Long      FIRST TRUST SENIOR FLOATING     nan    33733U    nan     33733U108  nan      nan      nan       68251.0     880.0        USD                   nan           1497637/13F-HR/0001497637-18-000001.txt  142\n",
       "3           1497637    Accuvest Global Advisors          nan        nan          nan            nan           2017-12-31  2018-01-30    13F-HR  shares           COM               Long      High Yield L/S ETF - First Tru  nan    33738d    nan     33738d408  nan      nan      nan       17050.0     828.0        USD                   nan           1497637/13F-HR/0001497637-18-000001.txt  158\n",
       "4           1497637    Accuvest Global Advisors          nan        nan          nan            nan           2017-12-31  2018-01-30    13F-HR  shares           COM               Long      INVESCO MUNICIPAL TRUST         nan    46131J    nan     46131J103  nan      nan      nan       30900.0     386.0        USD                   nan           1497637/13F-HR/0001497637-18-000001.txt  174\n",
       "...         ...        ...                               ...        ...          ...            ...           ...         ...           ...     ...              ...               ...       ...                             ...    ...       ...     ...        ...      ...      ...       ...         ...          ...                   ...           ...                                      ...\n",
       "65,442,764  1730962    ODonnell Financial Services, LLC  nan        nan          nan            nan           2021-09-30  2021-10-29    13F-HR  shares           COM               Long      TESLA INC                       nan    88160R    nan     88160R101  nan      nan      nan       600.0       465.0        USD                   nan           1730962/13F-HR/0001085146-21-002940.txt  815\n",
       "65,442,765  1730962    ODonnell Financial Services, LLC  nan        nan          nan            nan           2021-09-30  2021-10-29    13F-HR  shares           COM               Long      UNITEDHEALTH GROUP INC          nan    91324P    nan     91324P102  nan      nan      nan       1753.0      685.0        USD                   nan           1730962/13F-HR/0001085146-21-002940.txt  831\n",
       "65,442,766  1730962    ODonnell Financial Services, LLC  nan        nan          nan            nan           2021-09-30  2021-10-29    13F-HR  shares           TOTAL BND MRKT    Long      VANGUARD BD INDEX FDS           nan    921937    nan     921937835  nan      nan      nan       2406.0      206.0        USD                   nan           1730962/13F-HR/0001085146-21-002940.txt  847\n",
       "65,442,767  1730962    ODonnell Financial Services, LLC  nan        nan          nan            nan           2021-09-30  2021-10-29    13F-HR  shares           GROWTH ETF        Long      VANGUARD INDEX FDS              nan    922908    nan     922908736  nan      nan      nan       695.0       202.0        USD                   nan           1730962/13F-HR/0001085146-21-002940.txt  863\n",
       "65,442,768  1730962    ODonnell Financial Services, LLC  nan        nan          nan            nan           2021-09-30  2021-10-29    13F-HR  shares           CL A              Long      ZOETIS INC                      nan    98978V    nan     98978V103  nan      nan      nan       1947.0      378.0        USD                   nan           1730962/13F-HR/0001085146-21-002940.txt  879"
      ]
     },
     "execution_count": 3,
     "metadata": {},
     "output_type": "execute_result"
    }
   ],
   "source": [
    "df_13f = vaex.from_csv('/scratch/Debbie_Miori/13F2022.csv', copy_index=False, error_bad_lines=False)\n",
    "df_13f"
   ]
  },
  {
   "cell_type": "markdown",
   "metadata": {},
   "source": [
    "### Pre-processing and first look"
   ]
  },
  {
   "cell_type": "code",
   "execution_count": 4,
   "metadata": {},
   "outputs": [],
   "source": [
    "df = df_13f[df_13f.quantity > 0]\n",
    "\n",
    "df = df.drop(['reg_lei', 'series_id', 'series_name',\n",
    "             'as_of_date', 'payoff', 'lei', 'isin',\n",
    "             'file', 'line', 'series_lei', 'sedol', 'valor', 'ticker'\n",
    "             ], 1)\n",
    "\n",
    "df = df[df.form == '13F-HR']\n",
    "df = df[df.security_type == 'shares']"
   ]
  },
  {
   "cell_type": "code",
   "execution_count": 5,
   "metadata": {},
   "outputs": [
    {
     "data": {
      "text/html": [
       "<table>\n",
       "<thead>\n",
       "<tr><th>#                            </th><th style=\"text-align: right;\">  reg_cik</th><th>reg_name                </th><th>period    </th><th>form  </th><th>security_type  </th><th>security_class  </th><th>name                          </th><th>issuer  </th><th>cusip    </th><th style=\"text-align: right;\">  quantity</th><th style=\"text-align: right;\">  valuation</th><th>valuation_currency  </th><th style=\"text-align: right;\">  allocation</th></tr>\n",
       "</thead>\n",
       "<tbody>\n",
       "<tr><td><i style='opacity: 0.6'>0</i></td><td style=\"text-align: right;\">  1497637</td><td>Accuvest Global Advisors</td><td>2017-12-31</td><td>13F-HR</td><td>shares         </td><td>COM             </td><td>Blackrock Core Bond Trust     </td><td>09249e  </td><td>09249e101</td><td style=\"text-align: right;\">     24065</td><td style=\"text-align: right;\">        338</td><td>USD                 </td><td style=\"text-align: right;\">         nan</td></tr>\n",
       "<tr><td><i style='opacity: 0.6'>1</i></td><td style=\"text-align: right;\">  1497637</td><td>Accuvest Global Advisors</td><td>2017-12-31</td><td>13F-HR</td><td>shares         </td><td>COM             </td><td>Eaton Vance Ltd Duration Incom</td><td>27828h  </td><td>27828h105</td><td style=\"text-align: right;\">     14000</td><td style=\"text-align: right;\">        191</td><td>USD                 </td><td style=\"text-align: right;\">         nan</td></tr>\n",
       "<tr><td><i style='opacity: 0.6'>2</i></td><td style=\"text-align: right;\">  1497637</td><td>Accuvest Global Advisors</td><td>2017-12-31</td><td>13F-HR</td><td>shares         </td><td>COM             </td><td>FIRST TRUST SENIOR FLOATING   </td><td>33733U  </td><td>33733U108</td><td style=\"text-align: right;\">     68251</td><td style=\"text-align: right;\">        880</td><td>USD                 </td><td style=\"text-align: right;\">         nan</td></tr>\n",
       "</tbody>\n",
       "</table>"
      ],
      "text/plain": [
       "  #    reg_cik  reg_name                  period      form    security_type    security_class    name                            issuer    cusip        quantity    valuation  valuation_currency      allocation\n",
       "  0    1497637  Accuvest Global Advisors  2017-12-31  13F-HR  shares           COM               Blackrock Core Bond Trust       09249e    09249e101       24065          338  USD                            nan\n",
       "  1    1497637  Accuvest Global Advisors  2017-12-31  13F-HR  shares           COM               Eaton Vance Ltd Duration Incom  27828h    27828h105       14000          191  USD                            nan\n",
       "  2    1497637  Accuvest Global Advisors  2017-12-31  13F-HR  shares           COM               FIRST TRUST SENIOR FLOATING     33733U    33733U108       68251          880  USD                            nan"
      ]
     },
     "execution_count": 5,
     "metadata": {},
     "output_type": "execute_result"
    }
   ],
   "source": [
    "df.head(3)"
   ]
  },
  {
   "cell_type": "code",
   "execution_count": 6,
   "metadata": {},
   "outputs": [],
   "source": [
    "# Extract all the unique periods available\n",
    "periods = np.unique(df.period.values)"
   ]
  },
  {
   "cell_type": "code",
   "execution_count": 5,
   "metadata": {
    "scrolled": true
   },
   "outputs": [
    {
     "name": "stdout",
     "output_type": "stream",
     "text": [
      "2006-09-30 178\n",
      "2006-12-31 13\n",
      "2007-03-31 17\n",
      "2007-06-30 114\n",
      "2007-09-30 133\n",
      "2007-12-31 171\n",
      "2008-03-31 127\n",
      "2008-06-30 171\n",
      "2008-09-30 164\n",
      "2008-12-31 598\n",
      "2009-03-31 990\n",
      "2009-06-30 1006\n",
      "2009-09-30 3728\n",
      "2009-12-31 4123\n",
      "2010-03-31 4068\n",
      "2010-06-30 1013\n",
      "2010-09-30 611\n",
      "2010-12-31 1979\n",
      "2011-03-31 1813\n",
      "2011-06-30 2850\n",
      "2011-09-30 4457\n",
      "2011-12-31 5198\n",
      "2012-03-31 6727\n",
      "2012-06-30 6860\n",
      "2012-09-30 4969\n",
      "2012-12-31 10710\n",
      "2013-03-31 31510\n",
      "2013-06-30 1233237\n",
      "2013-09-30 1256664\n",
      "2013-12-31 1296609\n",
      "2014-03-31 1324763\n",
      "2014-06-30 1341859\n",
      "2014-09-30 1351553\n",
      "2014-12-31 1417978\n",
      "2015-03-31 1437663\n",
      "2015-06-30 1455082\n",
      "2015-09-30 1439845\n",
      "2015-12-31 1480163\n",
      "2016-03-31 1480824\n",
      "2016-06-30 1505984\n",
      "2016-09-30 1496886\n",
      "2016-12-31 1546231\n",
      "2017-03-31 1568475\n",
      "2017-06-30 1568488\n",
      "2017-09-30 1567898\n",
      "2017-12-31 1696661\n",
      "2018-03-31 1718036\n",
      "2018-06-30 1742753\n",
      "2018-09-30 1753767\n",
      "2018-12-31 1752873\n",
      "2019-03-31 1847602\n",
      "2019-06-30 1843852\n",
      "2019-09-30 1814746\n",
      "2019-12-31 1891649\n",
      "2020-03-31 1789108\n",
      "2020-06-30 1793412\n",
      "2020-09-30 1830363\n",
      "2020-12-31 1993658\n",
      "2021-03-31 2099492\n",
      "2021-06-30 2147747\n",
      "2021-09-30 2171706\n"
     ]
    }
   ],
   "source": [
    "# Check the interval for which you have good data (or at least a coherent amount)\n",
    "for p in periods:\n",
    "    print(p, len(df[df.period==p]))"
   ]
  },
  {
   "cell_type": "code",
   "execution_count": 7,
   "metadata": {},
   "outputs": [
    {
     "name": "stdout",
     "output_type": "stream",
     "text": [
      "34\n",
      "['2013-06-30' '2013-09-30' '2013-12-31' '2014-03-31' '2014-06-30'\n",
      " '2014-09-30' '2014-12-31' '2015-03-31' '2015-06-30' '2015-09-30'\n",
      " '2015-12-31' '2016-03-31' '2016-06-30' '2016-09-30' '2016-12-31'\n",
      " '2017-03-31' '2017-06-30' '2017-09-30' '2017-12-31' '2018-03-31'\n",
      " '2018-06-30' '2018-09-30' '2018-12-31' '2019-03-31' '2019-06-30'\n",
      " '2019-09-30' '2019-12-31' '2020-03-31' '2020-06-30' '2020-09-30'\n",
      " '2020-12-31' '2021-03-31' '2021-06-30' '2021-09-30']\n"
     ]
    }
   ],
   "source": [
    "sub_periods = periods[27:]\n",
    "print(len(sub_periods))\n",
    "print(sub_periods)"
   ]
  },
  {
   "cell_type": "code",
   "execution_count": 8,
   "metadata": {
    "scrolled": true
   },
   "outputs": [
    {
     "name": "stdout",
     "output_type": "stream",
     "text": [
      "2013-06-30\n"
     ]
    },
    {
     "name": "stderr",
     "output_type": "stream",
     "text": [
      "100%|██████████| 3372/3372 [2:52:41<00:00,  3.07s/it]  \n"
     ]
    },
    {
     "name": "stdout",
     "output_type": "stream",
     "text": [
      "2013-09-30\n"
     ]
    },
    {
     "name": "stderr",
     "output_type": "stream",
     "text": [
      "100%|██████████| 3373/3373 [2:51:54<00:00,  3.06s/it]  \n"
     ]
    },
    {
     "name": "stdout",
     "output_type": "stream",
     "text": [
      "2013-12-31\n"
     ]
    },
    {
     "name": "stderr",
     "output_type": "stream",
     "text": [
      "100%|██████████| 3732/3732 [3:09:36<00:00,  3.05s/it]  \n"
     ]
    },
    {
     "name": "stdout",
     "output_type": "stream",
     "text": [
      "2014-03-31\n"
     ]
    },
    {
     "name": "stderr",
     "output_type": "stream",
     "text": [
      "100%|██████████| 3735/3735 [3:09:48<00:00,  3.05s/it]  \n"
     ]
    },
    {
     "name": "stdout",
     "output_type": "stream",
     "text": [
      "2014-06-30\n"
     ]
    },
    {
     "name": "stderr",
     "output_type": "stream",
     "text": [
      "100%|██████████| 3744/3744 [3:09:47<00:00,  3.04s/it]  \n"
     ]
    },
    {
     "name": "stdout",
     "output_type": "stream",
     "text": [
      "2014-09-30\n"
     ]
    },
    {
     "name": "stderr",
     "output_type": "stream",
     "text": [
      "100%|██████████| 3732/3732 [3:08:50<00:00,  3.04s/it]  \n"
     ]
    },
    {
     "name": "stdout",
     "output_type": "stream",
     "text": [
      "2014-12-31\n"
     ]
    },
    {
     "name": "stderr",
     "output_type": "stream",
     "text": [
      "100%|██████████| 4089/4089 [3:27:21<00:00,  3.04s/it]  \n"
     ]
    },
    {
     "name": "stdout",
     "output_type": "stream",
     "text": [
      "2015-03-31\n"
     ]
    },
    {
     "name": "stderr",
     "output_type": "stream",
     "text": [
      "100%|██████████| 4081/4081 [3:26:59<00:00,  3.04s/it]  \n"
     ]
    },
    {
     "name": "stdout",
     "output_type": "stream",
     "text": [
      "2015-06-30\n"
     ]
    },
    {
     "name": "stderr",
     "output_type": "stream",
     "text": [
      "100%|██████████| 4073/4073 [3:26:54<00:00,  3.05s/it]  \n"
     ]
    },
    {
     "name": "stdout",
     "output_type": "stream",
     "text": [
      "2015-09-30\n"
     ]
    },
    {
     "name": "stderr",
     "output_type": "stream",
     "text": [
      "100%|██████████| 4045/4045 [3:25:11<00:00,  3.04s/it]  \n"
     ]
    },
    {
     "name": "stdout",
     "output_type": "stream",
     "text": [
      "2015-12-31\n"
     ]
    },
    {
     "name": "stderr",
     "output_type": "stream",
     "text": [
      "100%|██████████| 4246/4246 [3:35:27<00:00,  3.04s/it]  \n"
     ]
    },
    {
     "name": "stdout",
     "output_type": "stream",
     "text": [
      "2016-03-31\n"
     ]
    },
    {
     "name": "stderr",
     "output_type": "stream",
     "text": [
      "100%|██████████| 4193/4193 [3:32:44<00:00,  3.04s/it]  \n"
     ]
    },
    {
     "name": "stdout",
     "output_type": "stream",
     "text": [
      "2016-06-30\n"
     ]
    },
    {
     "name": "stderr",
     "output_type": "stream",
     "text": [
      "100%|██████████| 4184/4184 [3:32:22<00:00,  3.05s/it]  \n"
     ]
    },
    {
     "name": "stdout",
     "output_type": "stream",
     "text": [
      "2016-09-30\n"
     ]
    },
    {
     "name": "stderr",
     "output_type": "stream",
     "text": [
      "100%|██████████| 4147/4147 [3:30:21<00:00,  3.04s/it]  \n"
     ]
    },
    {
     "name": "stdout",
     "output_type": "stream",
     "text": [
      "2016-12-31\n"
     ]
    },
    {
     "name": "stderr",
     "output_type": "stream",
     "text": [
      "100%|██████████| 4374/4374 [3:41:42<00:00,  3.04s/it]  \n"
     ]
    },
    {
     "name": "stdout",
     "output_type": "stream",
     "text": [
      "2017-03-31\n"
     ]
    },
    {
     "name": "stderr",
     "output_type": "stream",
     "text": [
      "100%|██████████| 4341/4341 [3:39:51<00:00,  3.04s/it]  \n"
     ]
    },
    {
     "name": "stdout",
     "output_type": "stream",
     "text": [
      "2017-06-30\n"
     ]
    },
    {
     "name": "stderr",
     "output_type": "stream",
     "text": [
      "100%|██████████| 4330/4330 [3:39:15<00:00,  3.04s/it]  \n"
     ]
    },
    {
     "name": "stdout",
     "output_type": "stream",
     "text": [
      "2017-09-30\n"
     ]
    },
    {
     "name": "stderr",
     "output_type": "stream",
     "text": [
      "100%|██████████| 4310/4310 [3:38:08<00:00,  3.04s/it]  \n"
     ]
    },
    {
     "name": "stdout",
     "output_type": "stream",
     "text": [
      "2017-12-31\n"
     ]
    },
    {
     "name": "stderr",
     "output_type": "stream",
     "text": [
      "100%|██████████| 4736/4736 [3:59:41<00:00,  3.04s/it]  \n"
     ]
    },
    {
     "name": "stdout",
     "output_type": "stream",
     "text": [
      "2018-03-31\n"
     ]
    },
    {
     "name": "stderr",
     "output_type": "stream",
     "text": [
      "100%|██████████| 4716/4716 [3:59:06<00:00,  3.04s/it]  \n"
     ]
    },
    {
     "name": "stdout",
     "output_type": "stream",
     "text": [
      "2018-06-30\n"
     ]
    },
    {
     "name": "stderr",
     "output_type": "stream",
     "text": [
      "100%|██████████| 4699/4699 [3:57:19<00:00,  3.03s/it]  \n"
     ]
    },
    {
     "name": "stdout",
     "output_type": "stream",
     "text": [
      "2018-09-30\n"
     ]
    },
    {
     "name": "stderr",
     "output_type": "stream",
     "text": [
      "100%|██████████| 4683/4683 [3:57:48<00:00,  3.05s/it]  \n"
     ]
    },
    {
     "name": "stdout",
     "output_type": "stream",
     "text": [
      "2018-12-31\n"
     ]
    },
    {
     "name": "stderr",
     "output_type": "stream",
     "text": [
      "100%|██████████| 5064/5064 [4:20:47<00:00,  3.09s/it]  \n"
     ]
    },
    {
     "name": "stdout",
     "output_type": "stream",
     "text": [
      "2019-03-31\n"
     ]
    },
    {
     "name": "stderr",
     "output_type": "stream",
     "text": [
      "100%|██████████| 5024/5024 [4:17:52<00:00,  3.08s/it]  \n"
     ]
    },
    {
     "name": "stdout",
     "output_type": "stream",
     "text": [
      "2019-06-30\n"
     ]
    },
    {
     "name": "stderr",
     "output_type": "stream",
     "text": [
      "100%|██████████| 4976/4976 [4:17:05<00:00,  3.10s/it]  \n"
     ]
    },
    {
     "name": "stdout",
     "output_type": "stream",
     "text": [
      "2019-09-30\n"
     ]
    },
    {
     "name": "stderr",
     "output_type": "stream",
     "text": [
      "100%|██████████| 4950/4950 [4:11:30<00:00,  3.05s/it]  \n"
     ]
    },
    {
     "name": "stdout",
     "output_type": "stream",
     "text": [
      "2019-12-31\n"
     ]
    },
    {
     "name": "stderr",
     "output_type": "stream",
     "text": [
      "100%|██████████| 5403/5403 [4:33:39<00:00,  3.04s/it]  \n"
     ]
    },
    {
     "name": "stdout",
     "output_type": "stream",
     "text": [
      "2020-03-31\n"
     ]
    },
    {
     "name": "stderr",
     "output_type": "stream",
     "text": [
      "100%|██████████| 5330/5330 [4:29:57<00:00,  3.04s/it]  \n"
     ]
    },
    {
     "name": "stdout",
     "output_type": "stream",
     "text": [
      "2020-06-30\n"
     ]
    },
    {
     "name": "stderr",
     "output_type": "stream",
     "text": [
      "100%|██████████| 5323/5323 [4:31:19<00:00,  3.06s/it]  \n"
     ]
    },
    {
     "name": "stdout",
     "output_type": "stream",
     "text": [
      "2020-09-30\n"
     ]
    },
    {
     "name": "stderr",
     "output_type": "stream",
     "text": [
      "100%|██████████| 5297/5297 [4:30:02<00:00,  3.06s/it]  \n"
     ]
    },
    {
     "name": "stdout",
     "output_type": "stream",
     "text": [
      "2020-12-31\n"
     ]
    },
    {
     "name": "stderr",
     "output_type": "stream",
     "text": [
      "100%|██████████| 5873/5873 [5:02:12<00:00,  3.09s/it]  \n"
     ]
    },
    {
     "name": "stdout",
     "output_type": "stream",
     "text": [
      "2021-03-31\n"
     ]
    },
    {
     "name": "stderr",
     "output_type": "stream",
     "text": [
      "100%|██████████| 5869/5869 [4:57:27<00:00,  3.04s/it]  \n"
     ]
    },
    {
     "name": "stdout",
     "output_type": "stream",
     "text": [
      "2021-06-30\n"
     ]
    },
    {
     "name": "stderr",
     "output_type": "stream",
     "text": [
      "100%|██████████| 5874/5874 [4:58:08<00:00,  3.05s/it]  \n"
     ]
    },
    {
     "name": "stdout",
     "output_type": "stream",
     "text": [
      "2021-09-30\n"
     ]
    },
    {
     "name": "stderr",
     "output_type": "stream",
     "text": [
      "100%|██████████| 5857/5857 [4:58:42<00:00,  3.06s/it]  \n"
     ]
    }
   ],
   "source": [
    "\"\"\"\n",
    "    For each period p, save the related holdings.\n",
    "    This will be useful to compute imbalances efficiently\n",
    "\"\"\"\n",
    "\n",
    "for t in sub_periods:\n",
    "    print(t)\n",
    "    curr = df[df.period==t]\n",
    "    curr_ciks = np.unique(curr.reg_cik.values)  \n",
    "    cus = pd.DataFrame({'cusips': np.array(curr.cusip.values)}).dropna()\n",
    "    curr_cusips = np.unique(cus.cusips)\n",
    "    \n",
    "    #d = pd.DataFrame(0, index=curr_ciks, columns=curr_cusips)\n",
    "    \n",
    "    path = '/scratch/Debbie_Miori/holdings_t/'+str(t)+'.csv'\n",
    "    #dict_ = {cik:{} for cik in curr_ciks}\n",
    "    dict_ = {}\n",
    "    for cik in tqdm(curr_ciks):\n",
    "        sub = curr[curr.reg_cik==cik]\n",
    "        \n",
    "        summed = pd.DataFrame.from_dict({'cusip': sub.cusip.values, \n",
    "                                         'quantity': sub.quantity.values}).groupby('cusip').sum()\n",
    "        #dict_[cik] = dict(zip(list(summed.index), list(summed.quantity)))\n",
    "        dict_[cik] = summed.to_dict()['quantity']\n",
    "        \n",
    "    #for r in tqdm(range(len(curr))):\n",
    "        #row = curr[r]\n",
    "        #d.loc[curr[r][0], curr[r][8]] = curr[r][9]\n",
    "        #dict_[(row[0], row[8])] = row[9]\n",
    "        \n",
    "    d = pd.DataFrame.from_dict(dict_, orient='index').fillna(0)\n",
    "    d.to_csv(path)"
   ]
  },
  {
   "cell_type": "code",
   "execution_count": 3,
   "metadata": {
    "scrolled": true
   },
   "outputs": [
    {
     "data": {
      "text/plain": [
       "['/scratch/Debbie_Miori/holdings_t/2018-09-30.csv',\n",
       " '/scratch/Debbie_Miori/holdings_t/2014-06-30.csv',\n",
       " '/scratch/Debbie_Miori/holdings_t/2016-09-30.csv',\n",
       " '/scratch/Debbie_Miori/holdings_t/2014-09-30.csv',\n",
       " '/scratch/Debbie_Miori/holdings_t/2020-09-30.csv',\n",
       " '/scratch/Debbie_Miori/holdings_t/2016-06-30.csv',\n",
       " '/scratch/Debbie_Miori/holdings_t/2016-12-31.csv',\n",
       " '/scratch/Debbie_Miori/holdings_t/2015-09-30.csv',\n",
       " '/scratch/Debbie_Miori/holdings_t/2015-03-31.csv',\n",
       " '/scratch/Debbie_Miori/holdings_t/2017-12-31.csv',\n",
       " '/scratch/Debbie_Miori/holdings_t/2017-03-31.csv',\n",
       " '/scratch/Debbie_Miori/holdings_t/2017-09-30.csv',\n",
       " '/scratch/Debbie_Miori/holdings_t/2019-12-31.csv',\n",
       " '/scratch/Debbie_Miori/holdings_t/2020-06-30.csv',\n",
       " '/scratch/Debbie_Miori/holdings_t/2021-06-30.csv',\n",
       " '/scratch/Debbie_Miori/holdings_t/2018-12-31.csv',\n",
       " '/scratch/Debbie_Miori/holdings_t/2018-06-30.csv',\n",
       " '/scratch/Debbie_Miori/holdings_t/2014-03-31.csv',\n",
       " '/scratch/Debbie_Miori/holdings_t/2018-03-31.csv',\n",
       " '/scratch/Debbie_Miori/holdings_t/2016-03-31.csv',\n",
       " '/scratch/Debbie_Miori/holdings_t/2019-06-30.csv',\n",
       " '/scratch/Debbie_Miori/holdings_t/2020-12-31.csv',\n",
       " '/scratch/Debbie_Miori/holdings_t/2013-06-30.csv',\n",
       " '/scratch/Debbie_Miori/holdings_t/2021-09-30.csv',\n",
       " '/scratch/Debbie_Miori/holdings_t/2015-06-30.csv',\n",
       " '/scratch/Debbie_Miori/holdings_t/2017-06-30.csv',\n",
       " '/scratch/Debbie_Miori/holdings_t/2021-03-31.csv',\n",
       " '/scratch/Debbie_Miori/holdings_t/2019-03-31.csv',\n",
       " '/scratch/Debbie_Miori/holdings_t/2013-09-30.csv',\n",
       " '/scratch/Debbie_Miori/holdings_t/2014-12-31.csv',\n",
       " '/scratch/Debbie_Miori/holdings_t/2019-09-30.csv',\n",
       " '/scratch/Debbie_Miori/holdings_t/2020-03-31.csv',\n",
       " '/scratch/Debbie_Miori/holdings_t/2013-12-31.csv',\n",
       " '/scratch/Debbie_Miori/holdings_t/2015-12-31.csv']"
      ]
     },
     "execution_count": 3,
     "metadata": {},
     "output_type": "execute_result"
    }
   ],
   "source": [
    "glob.glob('/scratch/Debbie_Miori/holdings_t/*')"
   ]
  },
  {
   "cell_type": "code",
   "execution_count": 4,
   "metadata": {},
   "outputs": [
    {
     "data": {
      "text/html": [
       "<div>\n",
       "<style scoped>\n",
       "    .dataframe tbody tr th:only-of-type {\n",
       "        vertical-align: middle;\n",
       "    }\n",
       "\n",
       "    .dataframe tbody tr th {\n",
       "        vertical-align: top;\n",
       "    }\n",
       "\n",
       "    .dataframe thead th {\n",
       "        text-align: right;\n",
       "    }\n",
       "</style>\n",
       "<table border=\"1\" class=\"dataframe\">\n",
       "  <thead>\n",
       "    <tr style=\"text-align: right;\">\n",
       "      <th></th>\n",
       "      <th>Unnamed: 0</th>\n",
       "      <th>00206R102</th>\n",
       "      <th>008252108</th>\n",
       "      <th>018490102</th>\n",
       "      <th>020002101</th>\n",
       "      <th>032511107</th>\n",
       "      <th>037833100</th>\n",
       "      <th>053015103</th>\n",
       "      <th>064058100</th>\n",
       "      <th>075896100</th>\n",
       "      <th>...</th>\n",
       "      <th>78469X107</th>\n",
       "      <th>88079F107</th>\n",
       "      <th>92913A100</th>\n",
       "      <th>97653G100</th>\n",
       "      <th>G5960L103</th>\n",
       "      <th>30040W108</th>\n",
       "      <th>97718W108</th>\n",
       "      <th>146282108</th>\n",
       "      <th>30231H100</th>\n",
       "      <th>91059D100</th>\n",
       "    </tr>\n",
       "  </thead>\n",
       "  <tbody>\n",
       "    <tr>\n",
       "      <th>0</th>\n",
       "      <td>2230</td>\n",
       "      <td>584000.0</td>\n",
       "      <td>51700.0</td>\n",
       "      <td>128000.0</td>\n",
       "      <td>355000.0</td>\n",
       "      <td>50000.0</td>\n",
       "      <td>93000.0</td>\n",
       "      <td>200000.0</td>\n",
       "      <td>323775.0</td>\n",
       "      <td>105000.0</td>\n",
       "      <td>...</td>\n",
       "      <td>0.0</td>\n",
       "      <td>0.0</td>\n",
       "      <td>0.0</td>\n",
       "      <td>0.0</td>\n",
       "      <td>0.0</td>\n",
       "      <td>0.0</td>\n",
       "      <td>0.0</td>\n",
       "      <td>0.0</td>\n",
       "      <td>0.0</td>\n",
       "      <td>0.0</td>\n",
       "    </tr>\n",
       "    <tr>\n",
       "      <th>1</th>\n",
       "      <td>3520</td>\n",
       "      <td>63247.0</td>\n",
       "      <td>168485.0</td>\n",
       "      <td>0.0</td>\n",
       "      <td>700.0</td>\n",
       "      <td>1452740.0</td>\n",
       "      <td>1533521.0</td>\n",
       "      <td>0.0</td>\n",
       "      <td>180.0</td>\n",
       "      <td>349.0</td>\n",
       "      <td>...</td>\n",
       "      <td>0.0</td>\n",
       "      <td>0.0</td>\n",
       "      <td>0.0</td>\n",
       "      <td>0.0</td>\n",
       "      <td>0.0</td>\n",
       "      <td>0.0</td>\n",
       "      <td>0.0</td>\n",
       "      <td>0.0</td>\n",
       "      <td>0.0</td>\n",
       "      <td>0.0</td>\n",
       "    </tr>\n",
       "    <tr>\n",
       "      <th>2</th>\n",
       "      <td>5272</td>\n",
       "      <td>6541023.0</td>\n",
       "      <td>168429.0</td>\n",
       "      <td>182441.0</td>\n",
       "      <td>225290.0</td>\n",
       "      <td>284599.0</td>\n",
       "      <td>475448.0</td>\n",
       "      <td>252676.0</td>\n",
       "      <td>448480.0</td>\n",
       "      <td>97168.0</td>\n",
       "      <td>...</td>\n",
       "      <td>0.0</td>\n",
       "      <td>0.0</td>\n",
       "      <td>0.0</td>\n",
       "      <td>0.0</td>\n",
       "      <td>0.0</td>\n",
       "      <td>0.0</td>\n",
       "      <td>0.0</td>\n",
       "      <td>0.0</td>\n",
       "      <td>0.0</td>\n",
       "      <td>0.0</td>\n",
       "    </tr>\n",
       "    <tr>\n",
       "      <th>3</th>\n",
       "      <td>7789</td>\n",
       "      <td>207601.0</td>\n",
       "      <td>0.0</td>\n",
       "      <td>5104.0</td>\n",
       "      <td>122985.0</td>\n",
       "      <td>0.0</td>\n",
       "      <td>83730.0</td>\n",
       "      <td>17755.0</td>\n",
       "      <td>0.0</td>\n",
       "      <td>0.0</td>\n",
       "      <td>...</td>\n",
       "      <td>0.0</td>\n",
       "      <td>0.0</td>\n",
       "      <td>0.0</td>\n",
       "      <td>0.0</td>\n",
       "      <td>0.0</td>\n",
       "      <td>0.0</td>\n",
       "      <td>0.0</td>\n",
       "      <td>0.0</td>\n",
       "      <td>0.0</td>\n",
       "      <td>0.0</td>\n",
       "    </tr>\n",
       "    <tr>\n",
       "      <th>4</th>\n",
       "      <td>8565</td>\n",
       "      <td>1212432.0</td>\n",
       "      <td>3000.0</td>\n",
       "      <td>25349.0</td>\n",
       "      <td>110384.0</td>\n",
       "      <td>1092025.0</td>\n",
       "      <td>167975.0</td>\n",
       "      <td>208463.0</td>\n",
       "      <td>1056104.0</td>\n",
       "      <td>41182.0</td>\n",
       "      <td>...</td>\n",
       "      <td>0.0</td>\n",
       "      <td>0.0</td>\n",
       "      <td>0.0</td>\n",
       "      <td>0.0</td>\n",
       "      <td>0.0</td>\n",
       "      <td>0.0</td>\n",
       "      <td>0.0</td>\n",
       "      <td>0.0</td>\n",
       "      <td>0.0</td>\n",
       "      <td>0.0</td>\n",
       "    </tr>\n",
       "    <tr>\n",
       "      <th>...</th>\n",
       "      <td>...</td>\n",
       "      <td>...</td>\n",
       "      <td>...</td>\n",
       "      <td>...</td>\n",
       "      <td>...</td>\n",
       "      <td>...</td>\n",
       "      <td>...</td>\n",
       "      <td>...</td>\n",
       "      <td>...</td>\n",
       "      <td>...</td>\n",
       "      <td>...</td>\n",
       "      <td>...</td>\n",
       "      <td>...</td>\n",
       "      <td>...</td>\n",
       "      <td>...</td>\n",
       "      <td>...</td>\n",
       "      <td>...</td>\n",
       "      <td>...</td>\n",
       "      <td>...</td>\n",
       "      <td>...</td>\n",
       "      <td>...</td>\n",
       "    </tr>\n",
       "    <tr>\n",
       "      <th>3367</th>\n",
       "      <td>1424606</td>\n",
       "      <td>0.0</td>\n",
       "      <td>0.0</td>\n",
       "      <td>0.0</td>\n",
       "      <td>0.0</td>\n",
       "      <td>0.0</td>\n",
       "      <td>0.0</td>\n",
       "      <td>0.0</td>\n",
       "      <td>0.0</td>\n",
       "      <td>0.0</td>\n",
       "      <td>...</td>\n",
       "      <td>0.0</td>\n",
       "      <td>0.0</td>\n",
       "      <td>0.0</td>\n",
       "      <td>0.0</td>\n",
       "      <td>0.0</td>\n",
       "      <td>0.0</td>\n",
       "      <td>0.0</td>\n",
       "      <td>0.0</td>\n",
       "      <td>0.0</td>\n",
       "      <td>0.0</td>\n",
       "    </tr>\n",
       "    <tr>\n",
       "      <th>3368</th>\n",
       "      <td>1537430</td>\n",
       "      <td>0.0</td>\n",
       "      <td>0.0</td>\n",
       "      <td>0.0</td>\n",
       "      <td>0.0</td>\n",
       "      <td>0.0</td>\n",
       "      <td>0.0</td>\n",
       "      <td>0.0</td>\n",
       "      <td>0.0</td>\n",
       "      <td>0.0</td>\n",
       "      <td>...</td>\n",
       "      <td>0.0</td>\n",
       "      <td>0.0</td>\n",
       "      <td>0.0</td>\n",
       "      <td>0.0</td>\n",
       "      <td>0.0</td>\n",
       "      <td>0.0</td>\n",
       "      <td>0.0</td>\n",
       "      <td>0.0</td>\n",
       "      <td>0.0</td>\n",
       "      <td>0.0</td>\n",
       "    </tr>\n",
       "    <tr>\n",
       "      <th>3369</th>\n",
       "      <td>1353326</td>\n",
       "      <td>0.0</td>\n",
       "      <td>0.0</td>\n",
       "      <td>0.0</td>\n",
       "      <td>0.0</td>\n",
       "      <td>0.0</td>\n",
       "      <td>0.0</td>\n",
       "      <td>0.0</td>\n",
       "      <td>0.0</td>\n",
       "      <td>0.0</td>\n",
       "      <td>...</td>\n",
       "      <td>0.0</td>\n",
       "      <td>0.0</td>\n",
       "      <td>0.0</td>\n",
       "      <td>0.0</td>\n",
       "      <td>0.0</td>\n",
       "      <td>0.0</td>\n",
       "      <td>0.0</td>\n",
       "      <td>0.0</td>\n",
       "      <td>0.0</td>\n",
       "      <td>0.0</td>\n",
       "    </tr>\n",
       "    <tr>\n",
       "      <th>3370</th>\n",
       "      <td>1426266</td>\n",
       "      <td>0.0</td>\n",
       "      <td>0.0</td>\n",
       "      <td>0.0</td>\n",
       "      <td>0.0</td>\n",
       "      <td>0.0</td>\n",
       "      <td>0.0</td>\n",
       "      <td>0.0</td>\n",
       "      <td>0.0</td>\n",
       "      <td>0.0</td>\n",
       "      <td>...</td>\n",
       "      <td>0.0</td>\n",
       "      <td>0.0</td>\n",
       "      <td>0.0</td>\n",
       "      <td>0.0</td>\n",
       "      <td>0.0</td>\n",
       "      <td>0.0</td>\n",
       "      <td>0.0</td>\n",
       "      <td>0.0</td>\n",
       "      <td>0.0</td>\n",
       "      <td>0.0</td>\n",
       "    </tr>\n",
       "    <tr>\n",
       "      <th>3371</th>\n",
       "      <td>1652132</td>\n",
       "      <td>0.0</td>\n",
       "      <td>0.0</td>\n",
       "      <td>0.0</td>\n",
       "      <td>0.0</td>\n",
       "      <td>0.0</td>\n",
       "      <td>0.0</td>\n",
       "      <td>0.0</td>\n",
       "      <td>0.0</td>\n",
       "      <td>0.0</td>\n",
       "      <td>...</td>\n",
       "      <td>0.0</td>\n",
       "      <td>0.0</td>\n",
       "      <td>0.0</td>\n",
       "      <td>0.0</td>\n",
       "      <td>0.0</td>\n",
       "      <td>0.0</td>\n",
       "      <td>0.0</td>\n",
       "      <td>0.0</td>\n",
       "      <td>0.0</td>\n",
       "      <td>0.0</td>\n",
       "    </tr>\n",
       "  </tbody>\n",
       "</table>\n",
       "<p>3372 rows × 18868 columns</p>\n",
       "</div>"
      ],
      "text/plain": [
       "      Unnamed: 0  00206R102  008252108  018490102  020002101  032511107  \\\n",
       "0           2230   584000.0    51700.0   128000.0   355000.0    50000.0   \n",
       "1           3520    63247.0   168485.0        0.0      700.0  1452740.0   \n",
       "2           5272  6541023.0   168429.0   182441.0   225290.0   284599.0   \n",
       "3           7789   207601.0        0.0     5104.0   122985.0        0.0   \n",
       "4           8565  1212432.0     3000.0    25349.0   110384.0  1092025.0   \n",
       "...          ...        ...        ...        ...        ...        ...   \n",
       "3367     1424606        0.0        0.0        0.0        0.0        0.0   \n",
       "3368     1537430        0.0        0.0        0.0        0.0        0.0   \n",
       "3369     1353326        0.0        0.0        0.0        0.0        0.0   \n",
       "3370     1426266        0.0        0.0        0.0        0.0        0.0   \n",
       "3371     1652132        0.0        0.0        0.0        0.0        0.0   \n",
       "\n",
       "      037833100  053015103  064058100  075896100  ...  78469X107  88079F107  \\\n",
       "0       93000.0   200000.0   323775.0   105000.0  ...        0.0        0.0   \n",
       "1     1533521.0        0.0      180.0      349.0  ...        0.0        0.0   \n",
       "2      475448.0   252676.0   448480.0    97168.0  ...        0.0        0.0   \n",
       "3       83730.0    17755.0        0.0        0.0  ...        0.0        0.0   \n",
       "4      167975.0   208463.0  1056104.0    41182.0  ...        0.0        0.0   \n",
       "...         ...        ...        ...        ...  ...        ...        ...   \n",
       "3367        0.0        0.0        0.0        0.0  ...        0.0        0.0   \n",
       "3368        0.0        0.0        0.0        0.0  ...        0.0        0.0   \n",
       "3369        0.0        0.0        0.0        0.0  ...        0.0        0.0   \n",
       "3370        0.0        0.0        0.0        0.0  ...        0.0        0.0   \n",
       "3371        0.0        0.0        0.0        0.0  ...        0.0        0.0   \n",
       "\n",
       "      92913A100  97653G100  G5960L103  30040W108  97718W108  146282108  \\\n",
       "0           0.0        0.0        0.0        0.0        0.0        0.0   \n",
       "1           0.0        0.0        0.0        0.0        0.0        0.0   \n",
       "2           0.0        0.0        0.0        0.0        0.0        0.0   \n",
       "3           0.0        0.0        0.0        0.0        0.0        0.0   \n",
       "4           0.0        0.0        0.0        0.0        0.0        0.0   \n",
       "...         ...        ...        ...        ...        ...        ...   \n",
       "3367        0.0        0.0        0.0        0.0        0.0        0.0   \n",
       "3368        0.0        0.0        0.0        0.0        0.0        0.0   \n",
       "3369        0.0        0.0        0.0        0.0        0.0        0.0   \n",
       "3370        0.0        0.0        0.0        0.0        0.0        0.0   \n",
       "3371        0.0        0.0        0.0        0.0        0.0        0.0   \n",
       "\n",
       "      30231H100  91059D100  \n",
       "0           0.0        0.0  \n",
       "1           0.0        0.0  \n",
       "2           0.0        0.0  \n",
       "3           0.0        0.0  \n",
       "4           0.0        0.0  \n",
       "...         ...        ...  \n",
       "3367        0.0        0.0  \n",
       "3368        0.0        0.0  \n",
       "3369        0.0        0.0  \n",
       "3370        0.0        0.0  \n",
       "3371        0.0        0.0  \n",
       "\n",
       "[3372 rows x 18868 columns]"
      ]
     },
     "execution_count": 4,
     "metadata": {},
     "output_type": "execute_result"
    }
   ],
   "source": [
    "check = pd.read_csv('/scratch/Debbie_Miori/holdings_t/2013-06-30.csv')\n",
    "check"
   ]
  },
  {
   "cell_type": "markdown",
   "metadata": {},
   "source": [
    "### We have extracted holdings at each period p and saved them in different files. Now we have a look at the number of CIKs that we have"
   ]
  },
  {
   "cell_type": "code",
   "execution_count": 5,
   "metadata": {},
   "outputs": [],
   "source": [
    "import glob\n",
    "import pandas as pd\n",
    "from tqdm.notebook import tqdm"
   ]
  },
  {
   "cell_type": "code",
   "execution_count": 7,
   "metadata": {},
   "outputs": [
    {
     "data": {
      "application/vnd.jupyter.widget-view+json": {
       "model_id": "06ec33bf245345d8be40187be962e19c",
       "version_major": 2,
       "version_minor": 0
      },
      "text/plain": [
       "  0%|          | 0/34 [00:00<?, ?it/s]"
      ]
     },
     "metadata": {},
     "output_type": "display_data"
    }
   ],
   "source": [
    "ciks = []\n",
    "for file in tqdm(glob.glob('/scratch/Debbie_Miori/holdings_t/*')):\n",
    "    ciks += list(pd.read_csv(file).iloc[:, 0])"
   ]
  },
  {
   "cell_type": "code",
   "execution_count": 9,
   "metadata": {},
   "outputs": [
    {
     "data": {
      "text/plain": [
       "8166"
      ]
     },
     "execution_count": 9,
     "metadata": {},
     "output_type": "execute_result"
    }
   ],
   "source": [
    "import numpy as np\n",
    "len(np.unique(ciks))"
   ]
  },
  {
   "cell_type": "code",
   "execution_count": 10,
   "metadata": {},
   "outputs": [
    {
     "data": {
      "text/plain": [
       "array([2230, 3520, 5272, 7195, 7773, 7789, 8565, 9015, 9631, 9634])"
      ]
     },
     "execution_count": 10,
     "metadata": {},
     "output_type": "execute_result"
    }
   ],
   "source": [
    "np.unique(ciks)[:10]"
   ]
  },
  {
   "cell_type": "code",
   "execution_count": null,
   "metadata": {},
   "outputs": [],
   "source": []
  }
 ],
 "metadata": {
  "kernelspec": {
   "display_name": "Python 3 (ipykernel)",
   "language": "python",
   "name": "python3"
  },
  "language_info": {
   "codemirror_mode": {
    "name": "ipython",
    "version": 3
   },
   "file_extension": ".py",
   "mimetype": "text/x-python",
   "name": "python",
   "nbconvert_exporter": "python",
   "pygments_lexer": "ipython3",
   "version": "3.12.4"
  }
 },
 "nbformat": 4,
 "nbformat_minor": 4
}
