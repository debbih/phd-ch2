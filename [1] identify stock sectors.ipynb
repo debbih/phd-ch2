{
 "cells": [
  {
   "cell_type": "code",
   "execution_count": 1,
   "id": "e0a61128",
   "metadata": {},
   "outputs": [],
   "source": [
    "import numpy as np\n",
    "from scipy import stats\n",
    "import scipy\n",
    "import pandas as pd\n",
    "import pickle\n",
    "import glob\n",
    "import seaborn as sns\n",
    "import networkx as nx\n",
    "import time\n",
    "\n",
    "from math import nan\n",
    "import datetime\n",
    "\n",
    "import csv\n",
    "from tqdm import tqdm\n",
    "\n",
    "import matplotlib.pyplot as plt\n",
    "plt.rcParams.update({'font.size': 13})"
   ]
  },
  {
   "cell_type": "markdown",
   "id": "73ff7e6d",
   "metadata": {},
   "source": [
    "### Here, we groups stocks by their industry classification to do sector analysis"
   ]
  },
  {
   "cell_type": "code",
   "execution_count": 2,
   "id": "7ec95bb7",
   "metadata": {},
   "outputs": [
    {
     "name": "stderr",
     "output_type": "stream",
     "text": [
      "/home/miori/anaconda3/lib/python3.9/site-packages/IPython/core/interactiveshell.py:3444: DtypeWarning: Columns (8) have mixed types.Specify dtype option on import or set low_memory=False.\n",
      "  exec(code_obj, self.user_global_ns, self.user_ns)\n"
     ]
    },
    {
     "data": {
      "text/html": [
       "<div>\n",
       "<style scoped>\n",
       "    .dataframe tbody tr th:only-of-type {\n",
       "        vertical-align: middle;\n",
       "    }\n",
       "\n",
       "    .dataframe tbody tr th {\n",
       "        vertical-align: top;\n",
       "    }\n",
       "\n",
       "    .dataframe thead th {\n",
       "        text-align: right;\n",
       "    }\n",
       "</style>\n",
       "<table border=\"1\" class=\"dataframe\">\n",
       "  <thead>\n",
       "    <tr style=\"text-align: right;\">\n",
       "      <th></th>\n",
       "      <th>PERMNO</th>\n",
       "      <th>date</th>\n",
       "      <th>TICKER</th>\n",
       "      <th>COMNAM</th>\n",
       "      <th>CUSIP</th>\n",
       "      <th>HSICMG</th>\n",
       "      <th>HSICIG</th>\n",
       "      <th>PRC</th>\n",
       "      <th>RET</th>\n",
       "      <th>sprtrn</th>\n",
       "    </tr>\n",
       "  </thead>\n",
       "  <tbody>\n",
       "    <tr>\n",
       "      <th>3870</th>\n",
       "      <td>10026</td>\n",
       "      <td>20190805</td>\n",
       "      <td>JJSF</td>\n",
       "      <td>J &amp; J SNACK FOODS CORP</td>\n",
       "      <td>46603210</td>\n",
       "      <td>20.0</td>\n",
       "      <td>205.0</td>\n",
       "      <td>181.74001</td>\n",
       "      <td>-0.002086</td>\n",
       "      <td>-0.029778</td>\n",
       "    </tr>\n",
       "    <tr>\n",
       "      <th>3871</th>\n",
       "      <td>10026</td>\n",
       "      <td>20190806</td>\n",
       "      <td>JJSF</td>\n",
       "      <td>J &amp; J SNACK FOODS CORP</td>\n",
       "      <td>46603210</td>\n",
       "      <td>20.0</td>\n",
       "      <td>205.0</td>\n",
       "      <td>182.07001</td>\n",
       "      <td>0.001816</td>\n",
       "      <td>0.013017</td>\n",
       "    </tr>\n",
       "    <tr>\n",
       "      <th>3872</th>\n",
       "      <td>10026</td>\n",
       "      <td>20190807</td>\n",
       "      <td>JJSF</td>\n",
       "      <td>J &amp; J SNACK FOODS CORP</td>\n",
       "      <td>46603210</td>\n",
       "      <td>20.0</td>\n",
       "      <td>205.0</td>\n",
       "      <td>184.87000</td>\n",
       "      <td>0.015379</td>\n",
       "      <td>0.000767</td>\n",
       "    </tr>\n",
       "    <tr>\n",
       "      <th>3873</th>\n",
       "      <td>10026</td>\n",
       "      <td>20190808</td>\n",
       "      <td>JJSF</td>\n",
       "      <td>J &amp; J SNACK FOODS CORP</td>\n",
       "      <td>46603210</td>\n",
       "      <td>20.0</td>\n",
       "      <td>205.0</td>\n",
       "      <td>186.14999</td>\n",
       "      <td>0.006924</td>\n",
       "      <td>0.018762</td>\n",
       "    </tr>\n",
       "    <tr>\n",
       "      <th>3874</th>\n",
       "      <td>10026</td>\n",
       "      <td>20190809</td>\n",
       "      <td>JJSF</td>\n",
       "      <td>J &amp; J SNACK FOODS CORP</td>\n",
       "      <td>46603210</td>\n",
       "      <td>20.0</td>\n",
       "      <td>205.0</td>\n",
       "      <td>186.42999</td>\n",
       "      <td>0.001504</td>\n",
       "      <td>-0.006617</td>\n",
       "    </tr>\n",
       "  </tbody>\n",
       "</table>\n",
       "</div>"
      ],
      "text/plain": [
       "      PERMNO      date TICKER                  COMNAM     CUSIP  HSICMG  \\\n",
       "3870   10026  20190805   JJSF  J & J SNACK FOODS CORP  46603210    20.0   \n",
       "3871   10026  20190806   JJSF  J & J SNACK FOODS CORP  46603210    20.0   \n",
       "3872   10026  20190807   JJSF  J & J SNACK FOODS CORP  46603210    20.0   \n",
       "3873   10026  20190808   JJSF  J & J SNACK FOODS CORP  46603210    20.0   \n",
       "3874   10026  20190809   JJSF  J & J SNACK FOODS CORP  46603210    20.0   \n",
       "\n",
       "      HSICIG        PRC        RET    sprtrn  \n",
       "3870   205.0  181.74001  -0.002086 -0.029778  \n",
       "3871   205.0  182.07001   0.001816  0.013017  \n",
       "3872   205.0  184.87000   0.015379  0.000767  \n",
       "3873   205.0  186.14999   0.006924  0.018762  \n",
       "3874   205.0  186.42999   0.001504 -0.006617  "
      ]
     },
     "execution_count": 2,
     "metadata": {},
     "output_type": "execute_result"
    }
   ],
   "source": [
    "#wrds = pd.read_csv('/scratch/Debbie_Miori/pricesWRDS.csv')\n",
    "wrds_ind = pd.read_csv('/scratch/Debbie_Miori/stocks_data/pricesWRDS_industry.csv')\n",
    "wrds_ind = wrds_ind.dropna()\n",
    "wrds_ind = wrds_ind[wrds_ind.RET!='C']\n",
    "wrds_ind.head()"
   ]
  },
  {
   "cell_type": "code",
   "execution_count": 4,
   "id": "d1553008",
   "metadata": {},
   "outputs": [
    {
     "data": {
      "text/plain": [
       "array([ 1.,  2.,  7.,  9., 10., 12., 13., 14., 15., 16., 17., 20., 21.,\n",
       "       22., 23., 24., 25., 26., 27., 28., 29., 30., 31., 32., 33., 34.,\n",
       "       35., 36., 37., 38., 39., 40., 41., 42., 44., 45., 46., 47., 48.,\n",
       "       49., 50., 51., 52., 53., 54., 55., 56., 57., 58., 59., 60., 61.,\n",
       "       62., 63., 64., 65., 67., 70., 72., 73., 75., 76., 78., 79., 80.,\n",
       "       82., 83., 86., 87., 89., 94., 96., 97., 99.])"
      ]
     },
     "execution_count": 4,
     "metadata": {},
     "output_type": "execute_result"
    }
   ],
   "source": [
    "np.unique(wrds_ind.HSICMG)"
   ]
  },
  {
   "cell_type": "code",
   "execution_count": 8,
   "id": "858c8c9b",
   "metadata": {
    "scrolled": true
   },
   "outputs": [
    {
     "data": {
      "text/html": [
       "<div>\n",
       "<style scoped>\n",
       "    .dataframe tbody tr th:only-of-type {\n",
       "        vertical-align: middle;\n",
       "    }\n",
       "\n",
       "    .dataframe tbody tr th {\n",
       "        vertical-align: top;\n",
       "    }\n",
       "\n",
       "    .dataframe thead th {\n",
       "        text-align: right;\n",
       "    }\n",
       "</style>\n",
       "<table border=\"1\" class=\"dataframe\">\n",
       "  <thead>\n",
       "    <tr style=\"text-align: right;\">\n",
       "      <th></th>\n",
       "      <th>TICKER</th>\n",
       "      <th>HSICMG</th>\n",
       "    </tr>\n",
       "  </thead>\n",
       "  <tbody>\n",
       "    <tr>\n",
       "      <th>3870</th>\n",
       "      <td>JJSF</td>\n",
       "      <td>20.0</td>\n",
       "    </tr>\n",
       "    <tr>\n",
       "      <th>6232</th>\n",
       "      <td>ELA</td>\n",
       "      <td>50.0</td>\n",
       "    </tr>\n",
       "    <tr>\n",
       "      <th>8431</th>\n",
       "      <td>PLXS</td>\n",
       "      <td>36.0</td>\n",
       "    </tr>\n",
       "    <tr>\n",
       "      <th>9556</th>\n",
       "      <td>RMCF</td>\n",
       "      <td>20.0</td>\n",
       "    </tr>\n",
       "    <tr>\n",
       "      <th>12715</th>\n",
       "      <td>HNGR</td>\n",
       "      <td>48.0</td>\n",
       "    </tr>\n",
       "    <tr>\n",
       "      <th>...</th>\n",
       "      <td>...</td>\n",
       "      <td>...</td>\n",
       "    </tr>\n",
       "    <tr>\n",
       "      <th>16834518</th>\n",
       "      <td>CORN</td>\n",
       "      <td>62.0</td>\n",
       "    </tr>\n",
       "    <tr>\n",
       "      <th>16842953</th>\n",
       "      <td>FN</td>\n",
       "      <td>38.0</td>\n",
       "    </tr>\n",
       "    <tr>\n",
       "      <th>16845616</th>\n",
       "      <td>CBOE</td>\n",
       "      <td>62.0</td>\n",
       "    </tr>\n",
       "    <tr>\n",
       "      <th>16847054</th>\n",
       "      <td>VLTC</td>\n",
       "      <td>99.0</td>\n",
       "    </tr>\n",
       "    <tr>\n",
       "      <th>16851286</th>\n",
       "      <td>TSLA</td>\n",
       "      <td>99.0</td>\n",
       "    </tr>\n",
       "  </tbody>\n",
       "</table>\n",
       "<p>11295 rows × 2 columns</p>\n",
       "</div>"
      ],
      "text/plain": [
       "         TICKER  HSICMG\n",
       "3870       JJSF    20.0\n",
       "6232        ELA    50.0\n",
       "8431       PLXS    36.0\n",
       "9556       RMCF    20.0\n",
       "12715      HNGR    48.0\n",
       "...         ...     ...\n",
       "16834518   CORN    62.0\n",
       "16842953     FN    38.0\n",
       "16845616   CBOE    62.0\n",
       "16847054   VLTC    99.0\n",
       "16851286   TSLA    99.0\n",
       "\n",
       "[11295 rows x 2 columns]"
      ]
     },
     "execution_count": 8,
     "metadata": {},
     "output_type": "execute_result"
    }
   ],
   "source": [
    "x = wrds_ind.loc[:, ['TICKER', 'HSICMG']]\n",
    "x = x.drop_duplicates()\n",
    "x"
   ]
  },
  {
   "cell_type": "code",
   "execution_count": 9,
   "id": "f728be7e",
   "metadata": {},
   "outputs": [
    {
     "data": {
      "text/plain": [
       "array(['ABEV', 'ADM', 'ANFI', 'BDBD', 'BETR', 'BF', 'BG', 'BGS', 'BH',\n",
       "       'BRFS', 'BRID', 'BTH', 'CAG', 'CCE', 'CCEP', 'CCH', 'COKE', 'CPB',\n",
       "       'CREG', 'CZZ', 'DAR', 'DF', 'FARM', 'FTK', 'GIS', 'GLDC', 'GMCR',\n",
       "       'HAIN', 'HSY', 'IBA', 'JJSF', 'KDP', 'LANC', 'LBCC', 'LPCN', 'LSF',\n",
       "       'LTEA', 'LW', 'LWAY', 'MDLZ', 'MED', 'MKC', 'MNST', 'MXC', 'OCCH',\n",
       "       'OMAD', 'PACK', 'PEP', 'PLAG', 'POST', 'PPC', 'PRMW', 'REED',\n",
       "       'RELV', 'RIBT', 'RMCF', 'ROX', 'RYCE', 'SENEA', 'SENEB', 'SJM',\n",
       "       'SMBL', 'STZ', 'SXT', 'TAP', 'TR', 'TSN', 'WWAV', 'YVR', 'ZVIA'],\n",
       "      dtype='<U5')"
      ]
     },
     "execution_count": 9,
     "metadata": {},
     "output_type": "execute_result"
    }
   ],
   "source": [
    "np.unique(list(x[x.HSICMG==20.].TICKER))"
   ]
  },
  {
   "cell_type": "code",
   "execution_count": 5,
   "id": "7e082f22",
   "metadata": {},
   "outputs": [],
   "source": [
    "\"\"\"\n",
    "    https://siccode.com/page/structure-of-sic-codes\n",
    "\"\"\"\n",
    "\n",
    "agric = [1.,  2.,  7.,  9.]\n",
    "mining = [10., 12., 13., 14.]\n",
    "construction = [ 15., 16., 17.]\n",
    "manufacturing = [20., 21., 22., 23., 24., 25., 26., 27., 28., 29., 30., 31., 32., 33., 34., 35., 36., 37., 38., 39.]\n",
    "transportation_and_public = [40., 41., 42., 44., 45., 46., 47., 48., 49.]\n",
    "wholesale = [50., 51.]\n",
    "retail = [52., 53., 54., 55., 56., 57., 58., 59.]\n",
    "Finance_Insurance_RealEstate = [60., 61., 62., 63., 64., 65., 67.]\n",
    "Services = [70., 72., 73., 75., 76., 78., 79]\n",
    "PublicAdministration = [94., 96., 97., 99.]"
   ]
  },
  {
   "cell_type": "code",
   "execution_count": 11,
   "id": "9af02149",
   "metadata": {},
   "outputs": [],
   "source": [
    "ag = []\n",
    "for i in agric:\n",
    "    ag += list(np.unique(list(x[x.HSICMG==i].TICKER)))\n",
    "    \n",
    "m = []\n",
    "for i in mining:\n",
    "    m += list(np.unique(list(x[x.HSICMG==i].TICKER)))\n",
    "    \n",
    "c = []\n",
    "for i in construction:\n",
    "    c += list(np.unique(list(x[x.HSICMG==i].TICKER)))\n",
    "    \n",
    "ma = []\n",
    "for i in manufacturing:\n",
    "    ma += list(np.unique(list(x[x.HSICMG==i].TICKER)))\n",
    "    \n",
    "t = []\n",
    "for i in transportation_and_public:\n",
    "    t += list(np.unique(list(x[x.HSICMG==i].TICKER)))\n",
    "    \n",
    "w = []\n",
    "for i in wholesale:\n",
    "    w += list(np.unique(list(x[x.HSICMG==i].TICKER)))\n",
    "    \n",
    "r = []\n",
    "for i in retail:\n",
    "    r += list(np.unique(list(x[x.HSICMG==i].TICKER)))\n",
    "    \n",
    "f = []\n",
    "for i in Finance_Insurance_RealEstate:\n",
    "    f += list(np.unique(list(x[x.HSICMG==i].TICKER)))\n",
    "    \n",
    "s = []\n",
    "for i in Services:\n",
    "    s += list(np.unique(list(x[x.HSICMG==i].TICKER)))\n",
    "    \n",
    "p = []\n",
    "for i in PublicAdministration:\n",
    "    p += list(np.unique(list(x[x.HSICMG==i].TICKER)))"
   ]
  },
  {
   "cell_type": "code",
   "execution_count": 13,
   "id": "828be83c",
   "metadata": {},
   "outputs": [],
   "source": [
    "groups = {\n",
    "    'agric': ag,\n",
    "    'mining': m,\n",
    "    'costr': c,\n",
    "    'manuf': ma,\n",
    "    'transp': t,\n",
    "    'wholesale': w,\n",
    "    'retail': r,\n",
    "    'fin_ins_RE': f,\n",
    "    'services': s,\n",
    "    'pubAdm': p\n",
    "}"
   ]
  },
  {
   "cell_type": "code",
   "execution_count": 16,
   "id": "ece91d86",
   "metadata": {},
   "outputs": [
    {
     "name": "stdout",
     "output_type": "stream",
     "text": [
      "agric 16\n",
      "mining 352\n",
      "costr 56\n",
      "manuf 1227\n",
      "transp 441\n",
      "wholesale 149\n",
      "retail 194\n",
      "fin_ins_RE 5136\n",
      "services 597\n",
      "pubAdm 2897\n"
     ]
    }
   ],
   "source": [
    "for key in groups.keys():\n",
    "    print(key, len(groups[key]))"
   ]
  },
  {
   "cell_type": "code",
   "execution_count": 17,
   "id": "0d3d3f43",
   "metadata": {},
   "outputs": [],
   "source": [
    "import pickle\n",
    "with open('/scratch/Debbie_Miori/groups_stocks.pickle', 'wb') as handle:\n",
    "    pickle.dump(groups, handle)"
   ]
  },
  {
   "cell_type": "code",
   "execution_count": null,
   "id": "f7af021b",
   "metadata": {},
   "outputs": [],
   "source": []
  }
 ],
 "metadata": {
  "kernelspec": {
   "display_name": "Python 3 (ipykernel)",
   "language": "python",
   "name": "python3"
  },
  "language_info": {
   "codemirror_mode": {
    "name": "ipython",
    "version": 3
   },
   "file_extension": ".py",
   "mimetype": "text/x-python",
   "name": "python",
   "nbconvert_exporter": "python",
   "pygments_lexer": "ipython3",
   "version": "3.12.4"
  }
 },
 "nbformat": 4,
 "nbformat_minor": 5
}
